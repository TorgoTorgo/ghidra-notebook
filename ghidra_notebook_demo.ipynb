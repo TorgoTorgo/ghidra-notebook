{
 "cells": [
  {
   "cell_type": "markdown",
   "id": "059001a2-2e70-40b3-8250-f5eb84fd518f",
   "metadata": {},
   "source": [
    "This workbook is a bit of quick walkthrough of how to use ghidra-bridge/ghidra-notebook. We'll write another one that actually walks through Ghidra use."
   ]
  },
  {
   "cell_type": "code",
   "execution_count": null,
   "id": "fe5417d8-a9fe-43e4-b518-b78dab12e224",
   "metadata": {},
   "outputs": [],
   "source": [
    "# setup code\n",
    "import ipywidgets"
   ]
  },
  {
   "cell_type": "markdown",
   "id": "2f994304-9b21-43cc-b6f4-e054330cba4b",
   "metadata": {},
   "source": [
    "Once you've got the bridge connected, the flat API should be available in the globals. Let's see what program you've got open in Ghidra."
   ]
  },
  {
   "cell_type": "code",
   "execution_count": null,
   "id": "7f67f24e-9168-4ae1-a923-ccc7950b3293",
   "metadata": {},
   "outputs": [],
   "source": [
    "print(currentProgram)"
   ]
  },
  {
   "cell_type": "markdown",
   "id": "141dc027-c5a6-48ea-9e67-b5126a0bb7af",
   "metadata": {},
   "source": [
    "Let's do something a bit fancier. Let's get the list of functions in that program. I wonder how, though...\n",
    "\n",
    "Let's start with a list of what's available on currentProgram:"
   ]
  },
  {
   "cell_type": "code",
   "execution_count": null,
   "id": "9a64d44f-ca56-4a4a-9962-72a6c6096752",
   "metadata": {},
   "outputs": [],
   "source": [
    "# dir will include the attributes and functions of the bridged object in the Ghidra python environment\n",
    "dir(currentProgram)"
   ]
  },
  {
   "cell_type": "markdown",
   "id": "d0f01ce8-9994-4cdd-aa24-2cb026fcad01",
   "metadata": {},
   "source": [
    "getFunctionManager looks like it's interesting. Can we get some more info on that? "
   ]
  },
  {
   "cell_type": "code",
   "execution_count": null,
   "id": "795e148e-3e3b-4194-9772-39263aa5eaad",
   "metadata": {},
   "outputs": [],
   "source": [
    "# help will attempt to get the Ghidra documentation if possible\n",
    "help(currentProgram.getFunctionManager())\n"
   ]
  },
  {
   "cell_type": "markdown",
   "id": "8e993e6e-afd6-4179-a9b1-f631cfd6a112",
   "metadata": {},
   "source": [
    "Great! getFunctions() sounds like what we want. Let's do it!"
   ]
  },
  {
   "cell_type": "code",
   "execution_count": null,
   "id": "d9287a89-aeff-4fc4-ab79-b234f7cf7f8d",
   "metadata": {},
   "outputs": [],
   "source": [
    "%time list(currentProgram.getFunctionManager().getFunctions(True))"
   ]
  },
  {
   "cell_type": "markdown",
   "id": "ca6fffc3-4d9a-4d22-a7d4-f5ed72824917",
   "metadata": {},
   "source": [
    "Wow, that was pretty slow - GhidraBridge has to pump multiple requests for each function, so it can take a while. Luckily, the bridge.remote_eval() function lets you run list/dictionary-comprehensions that can be a bit faster. We really just want the name of the function and the address, so let's try that."
   ]
  },
  {
   "cell_type": "code",
   "execution_count": null,
   "id": "defc9315-9b32-42b8-898b-6e9cf48bd026",
   "metadata": {},
   "outputs": [],
   "source": [
    "# the bridge is available in the globals as \"bridge\". \n",
    "# Note that remote_eval takes a string.\n",
    "%time func_tuple_list = bridge.remote_eval(\"[(func.getEntryPoint().getOffset(), func.getName()) for func in currentProgram.getFunctionManager().getFunctions(True)]\")\n",
    "func_dict = { f\"{name} ({hex(address)})\": (address, name) for address, name in func_tuple_list}"
   ]
  },
  {
   "cell_type": "markdown",
   "id": "fb6fc5b8-3893-4383-a61d-b95d956f07e6",
   "metadata": {},
   "source": [
    "Yay, way faster. Now let's pick a function to look at with a widget:"
   ]
  },
  {
   "cell_type": "code",
   "execution_count": null,
   "id": "7541ccf9-6593-460d-b3aa-cf50b5925288",
   "metadata": {},
   "outputs": [],
   "source": [
    "dropD = ipywidgets.widgets.Dropdown(\n",
    " options=sorted(func_dict.keys()),\n",
    " description=\"Function name:\",\n",
    " disabled=False,\n",
    " )\n",
    "display(dropD)"
   ]
  },
  {
   "cell_type": "markdown",
   "id": "137eac8f-b9eb-4032-a4ec-f351ba469890",
   "metadata": {},
   "source": [
    "Let's get the decompilation of the function."
   ]
  },
  {
   "cell_type": "code",
   "execution_count": null,
   "id": "603ab5c6-1e1a-4e24-92d9-dcc09a0a7fa5",
   "metadata": {},
   "outputs": [],
   "source": [
    "function_address = func_dict[dropD.value][0]\n",
    "function = currentProgram.getFunctionManager().getFunctionAt(currentProgram.parseAddress(hex(function_address))[0])\n",
    "\n",
    "from ghidra.app.decompiler import DecompInterface\n",
    "from ghidra.util.task import ConsoleTaskMonitor\n",
    "\n",
    "ifc = DecompInterface()\n",
    "ifc.openProgram(currentProgram)\n",
    "\n",
    "# decompile the function and print the pseudo C\n",
    "results = ifc.decompileFunction(function, 0, ConsoleTaskMonitor())\n",
    "print(results.getDecompiledFunction().getC())\n"
   ]
  }
 ],
 "metadata": {
  "kernelspec": {
   "display_name": "Ghidra",
   "language": "python3",
   "name": "ghidra"
  },
  "language_info": {
   "codemirror_mode": "Python",
   "file_extension": ".py",
   "mimetype": "text/x-python3",
   "name": "Ghidra Python",
   "pygments_lexer": "python3"
  }
 },
 "nbformat": 4,
 "nbformat_minor": 5
}
